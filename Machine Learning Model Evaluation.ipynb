{
    "nbformat_minor": 1, 
    "metadata": {
        "language_info": {
            "nbconvert_exporter": "python", 
            "codemirror_mode": {
                "name": "ipython", 
                "version": 2
            }, 
            "pygments_lexer": "ipython2", 
            "name": "python", 
            "file_extension": ".py", 
            "version": "2.7.11", 
            "mimetype": "text/x-python"
        }, 
        "kernelspec": {
            "language": "python", 
            "name": "python2-spark21", 
            "display_name": "Python 2 with Spark 2.1"
        }
    }, 
    "nbformat": 4, 
    "cells": [
        {
            "source": "# Machine Learning Model Evaluation", 
            "metadata": {
                "collapsed": true
            }, 
            "cell_type": "markdown"
        }, 
        {
            "execution_count": 1, 
            "metadata": {
                "collapsed": true
            }, 
            "source": "# read the data into a Pandas DataFrame\nimport pandas as pd\n\nurl = 'https://archive.ics.uci.edu/ml/machine-learning-databases/pima-indians-diabetes/pima-indians-diabetes.data'\n\ncol_names = ['pregnant', 'glucose', 'bp', 'skin', 'insulin', 'bmi', 'pedigree', 'age','label']\n\npima = pd.read_csv(url, header=None, names=col_names)", 
            "outputs": [], 
            "cell_type": "code"
        }, 
        {
            "execution_count": 2, 
            "metadata": {}, 
            "source": "# print the first 5 rows of data from the dataframe\npima.head()", 
            "outputs": [
                {
                    "execution_count": 2, 
                    "metadata": {}, 
                    "data": {
                        "text/html": "<div>\n<style>\n    .dataframe thead tr:only-child th {\n        text-align: right;\n    }\n\n    .dataframe thead th {\n        text-align: left;\n    }\n\n    .dataframe tbody tr th {\n        vertical-align: top;\n    }\n</style>\n<table border=\"1\" class=\"dataframe\">\n  <thead>\n    <tr style=\"text-align: right;\">\n      <th></th>\n      <th>pregnant</th>\n      <th>glucose</th>\n      <th>bp</th>\n      <th>skin</th>\n      <th>insulin</th>\n      <th>bmi</th>\n      <th>pedigree</th>\n      <th>age</th>\n      <th>label</th>\n    </tr>\n  </thead>\n  <tbody>\n    <tr>\n      <th>0</th>\n      <td>6</td>\n      <td>148</td>\n      <td>72</td>\n      <td>35</td>\n      <td>0</td>\n      <td>33.6</td>\n      <td>0.627</td>\n      <td>50</td>\n      <td>1</td>\n    </tr>\n    <tr>\n      <th>1</th>\n      <td>1</td>\n      <td>85</td>\n      <td>66</td>\n      <td>29</td>\n      <td>0</td>\n      <td>26.6</td>\n      <td>0.351</td>\n      <td>31</td>\n      <td>0</td>\n    </tr>\n    <tr>\n      <th>2</th>\n      <td>8</td>\n      <td>183</td>\n      <td>64</td>\n      <td>0</td>\n      <td>0</td>\n      <td>23.3</td>\n      <td>0.672</td>\n      <td>32</td>\n      <td>1</td>\n    </tr>\n    <tr>\n      <th>3</th>\n      <td>1</td>\n      <td>89</td>\n      <td>66</td>\n      <td>23</td>\n      <td>94</td>\n      <td>28.1</td>\n      <td>0.167</td>\n      <td>21</td>\n      <td>0</td>\n    </tr>\n    <tr>\n      <th>4</th>\n      <td>0</td>\n      <td>137</td>\n      <td>40</td>\n      <td>35</td>\n      <td>168</td>\n      <td>43.1</td>\n      <td>2.288</td>\n      <td>33</td>\n      <td>1</td>\n    </tr>\n  </tbody>\n</table>\n</div>", 
                        "text/plain": "   pregnant  glucose  bp  skin  insulin   bmi  pedigree  age  label\n0         6      148  72    35        0  33.6     0.627   50      1\n1         1       85  66    29        0  26.6     0.351   31      0\n2         8      183  64     0        0  23.3     0.672   32      1\n3         1       89  66    23       94  28.1     0.167   21      0\n4         0      137  40    35      168  43.1     2.288   33      1"
                    }, 
                    "output_type": "execute_result"
                }
            ], 
            "cell_type": "code"
        }, 
        {
            "source": "### Explanation of variables\nlabel\n1: diabetes\n0: no diabetes\npregnant\nnumber of times pregnant", 
            "metadata": {}, 
            "cell_type": "markdown"
        }, 
        {
            "execution_count": 3, 
            "metadata": {
                "collapsed": true
            }, 
            "source": "# define X and y\nfeature_cols = ['pregnant', 'insulin', 'bmi', 'age']\n\n# X is a matrix, hence we use [] to access the features we want in feature_cols\nX = pima[feature_cols]\n\n# y is a vector, hence we use dot to access 'label'\ny = pima.label", 
            "outputs": [], 
            "cell_type": "code"
        }, 
        {
            "execution_count": 4, 
            "metadata": {}, 
            "source": "# split X and y into training and testing sets\n# note that the test split ratio is By default,is set to 0.25.\nfrom sklearn.cross_validation import train_test_split\nX_train, X_test, y_train, y_test = train_test_split(X, y, random_state=0)", 
            "outputs": [
                {
                    "name": "stderr", 
                    "output_type": "stream", 
                    "text": "/gpfs/fs01/user/sa7d-9dd5fbf856b6db-aa3b21eda791/.local/lib/python2.7/site-packages/sklearn/cross_validation.py:41: DeprecationWarning: This module was deprecated in version 0.18 in favor of the model_selection module into which all the refactored classes and functions are moved. Also note that the interface of the new CV iterators are different from that of this module. This module will be removed in 0.20.\n  \"This module will be removed in 0.20.\", DeprecationWarning)\n"
                }
            ], 
            "cell_type": "code"
        }, 
        {
            "execution_count": 5, 
            "metadata": {}, 
            "source": "# train a logistic regression model on the training set\nfrom sklearn.linear_model import LogisticRegression\n\n# instantiate model\nlogreg = LogisticRegression()\n\n# fit model\nlogreg.fit(X_train, y_train)", 
            "outputs": [
                {
                    "execution_count": 5, 
                    "metadata": {}, 
                    "data": {
                        "text/plain": "LogisticRegression(C=1.0, class_weight=None, dual=False, fit_intercept=True,\n          intercept_scaling=1, max_iter=100, multi_class='ovr', n_jobs=1,\n          penalty='l2', random_state=None, solver='liblinear', tol=0.0001,\n          verbose=0, warm_start=False)"
                    }, 
                    "output_type": "execute_result"
                }
            ], 
            "cell_type": "code"
        }, 
        {
            "execution_count": 6, 
            "metadata": {
                "collapsed": true
            }, 
            "source": "# make class predictions for the testing set\ny_pred_class = logreg.predict(X_test)", 
            "outputs": [], 
            "cell_type": "code"
        }, 
        {
            "source": "Classification accuracy: percentage of correct predictions", 
            "metadata": {}, 
            "cell_type": "markdown"
        }, 
        {
            "execution_count": 7, 
            "metadata": {}, 
            "source": "# calculate accuracy\nfrom sklearn import metrics\nprint(metrics.accuracy_score(y_test, y_pred_class))", 
            "outputs": [
                {
                    "name": "stdout", 
                    "output_type": "stream", 
                    "text": "0.692708333333\n"
                }
            ], 
            "cell_type": "code"
        }, 
        {
            "source": "Null accuracy: accuracy that could be achieved by always predicting the most frequent class\nThis is (almost) equiavalent to a random classification", 
            "metadata": {}, 
            "cell_type": "markdown"
        }, 
        {
            "execution_count": 8, 
            "metadata": {}, 
            "source": "# examine the class distribution of the testing set (using a Pandas Series method)\ny_test.value_counts()\n# calculate the percentage of ones\n# because y_test only contains ones and zeros, we can simply calculate the mean = percentage of ones\ny_test.mean()\n# calculate the percentage of zeros\n1 - y_test.mean()\n# calculate null accuracy in a single line of code\n# only for binary classification problems coded as 0/1\nmax(y_test.mean(), 1 - y_test.mean())", 
            "outputs": [
                {
                    "execution_count": 8, 
                    "metadata": {}, 
                    "data": {
                        "text/plain": "0.67708333333333326"
                    }, 
                    "output_type": "execute_result"
                }
            ], 
            "cell_type": "code"
        }, 
        {
            "source": "This means that a dumb model that always predicts 0 would be right 68% of the time\n* This shows how classification accuracy is not that good as it's close to a dumb model\n* It's a good way to know the minimum we should achieve with our models", 
            "metadata": {}, 
            "cell_type": "markdown"
        }, 
        {
            "source": "### Confusion matrix\nTable that describes the performance of a classification model", 
            "metadata": {}, 
            "cell_type": "markdown"
        }, 
        {
            "execution_count": 9, 
            "metadata": {}, 
            "source": "# IMPORTANT: first argument is true values, second argument is predicted values\n# this produces a 2x2 numpy array (matrix)\nprint(metrics.confusion_matrix(y_test, y_pred_class))", 
            "outputs": [
                {
                    "name": "stdout", 
                    "output_type": "stream", 
                    "text": "[[118  12]\n [ 47  15]]\n"
                }
            ], 
            "cell_type": "code"
        }, 
        {
            "execution_count": 15, 
            "metadata": {}, 
            "source": "# save confusion matrix and slice into four pieces\nconfusion = metrics.confusion_matrix(y_test, y_pred_class)\nprint(confusion)\n#[row, column]\n# TP: True Positive\nTP = confusion[1, 1]\n# TN: True Negative\nTN = confusion[0, 0]\n# FP: False Positive\nFP = confusion[0, 1]\n# FN: False Negative\nFN = confusion[1, 0]\nprint(\"TP: \",TP,\", TN: \",TN,\", FP: \",FP,\", FN: \",FN)", 
            "outputs": [
                {
                    "name": "stdout", 
                    "output_type": "stream", 
                    "text": "[[118  12]\n [ 47  15]]\n('TP: ', 15, ', TN: ', 118, ', FP: ', 12, ', FN: ', 47)\n"
                }
            ], 
            "cell_type": "code"
        }, 
        {
            "execution_count": 17, 
            "metadata": {}, 
            "source": "# use float to perform true division, not integer division\nprint((TP + TN) / float(TP + TN + FP + FN))\nprint(metrics.accuracy_score(y_test, y_pred_class))", 
            "outputs": [
                {
                    "name": "stdout", 
                    "output_type": "stream", 
                    "text": "0.692708333333\n0.692708333333\n"
                }
            ], 
            "cell_type": "code"
        }, 
        {
            "execution_count": 18, 
            "metadata": {}, 
            "source": "classification_error = (FP + FN) / float(TP + TN + FP + FN)\n\nprint(classification_error)\nprint(1 - metrics.accuracy_score(y_test, y_pred_class))", 
            "outputs": [
                {
                    "name": "stdout", 
                    "output_type": "stream", 
                    "text": "0.307291666667\n0.307291666667\n"
                }
            ], 
            "cell_type": "code"
        }, 
        {
            "source": "Sensitivity: When the actual value is positive, how often is the prediction correct?\n* Something we want to maximize\n* How \"sensitive\" is the classifier to detecting positive instances?\n* Also known as \"True Positive Rate\" or \"Recall\"\n* TP / all positive\n    * all positive = TP + FN", 
            "metadata": {}, 
            "cell_type": "markdown"
        }, 
        {
            "source": "I'm using python 2 in this notebook and in Python 2, 25/100 is zero when performing an integer divison. since the result is less than 1.\n\nThat is why I using from __future__ import division. This will always perform a float division when using the / operator and use // for integer division.\n\nAnother option would be making at least one of the operands a float, e.g. 25.0/100.\n\nIn Python 3, 25/100 is always 0.25.", 
            "metadata": {}, 
            "cell_type": "markdown"
        }, 
        {
            "execution_count": 24, 
            "metadata": {}, 
            "source": "from __future__ import division\nspecificity = TN / (TN + FP)\n\nprint(TN / (TN + FP))", 
            "outputs": [
                {
                    "name": "stdout", 
                    "output_type": "stream", 
                    "text": "0.907692307692\n"
                }
            ], 
            "cell_type": "code"
        }, 
        {
            "source": "precision or positive predictive value (PPV)", 
            "metadata": {}, 
            "cell_type": "markdown"
        }, 
        {
            "execution_count": 25, 
            "metadata": {}, 
            "source": "precision = TP / float(TP + FP)\n\nprint(precision)\nprint(metrics.precision_score(y_test, y_pred_class))", 
            "outputs": [
                {
                    "name": "stdout", 
                    "output_type": "stream", 
                    "text": "0.555555555556\n0.555555555556\n"
                }
            ], 
            "cell_type": "code"
        }, 
        {
            "execution_count": 26, 
            "metadata": {}, 
            "source": "# Recall\n# Recall is the fraction of the relevant instance that are successfully predicted \nprint(TP/float(TP+FN))", 
            "outputs": [
                {
                    "name": "stdout", 
                    "output_type": "stream", 
                    "text": "0.241935483871\n"
                }
            ], 
            "cell_type": "code"
        }, 
        {
            "source": "For more complete list of metrics see:\nhttps://en.wikipedia.org/wiki/Precision_and_recall#Precision", 
            "metadata": {}, 
            "cell_type": "markdown"
        }, 
        {
            "execution_count": 27, 
            "metadata": {}, 
            "source": "# print the first 10 predicted probabilities for class 1\nlogreg.predict_proba(X_test)[0:10, 1]", 
            "outputs": [
                {
                    "execution_count": 27, 
                    "metadata": {}, 
                    "data": {
                        "text/plain": "array([ 0.36752429,  0.28356344,  0.28895886,  0.4141062 ,  0.15896027,\n        0.17065156,  0.49889026,  0.51341541,  0.27678612,  0.67189438])"
                    }, 
                    "output_type": "execute_result"
                }
            ], 
            "cell_type": "code"
        }, 
        {
            "execution_count": 28, 
            "metadata": {
                "collapsed": true
            }, 
            "source": "# store the predicted probabilities for class 1\ny_pred_prob = logreg.predict_proba(X_test)[:, 1]", 
            "outputs": [], 
            "cell_type": "code"
        }, 
        {
            "execution_count": 29, 
            "metadata": {
                "collapsed": true
            }, 
            "source": "# allow plots to appear in the notebook\n%matplotlib inline\nimport matplotlib.pyplot as plt\n\n# adjust the font size \nplt.rcParams['font.size'] = 12", 
            "outputs": [], 
            "cell_type": "code"
        }, 
        {
            "execution_count": 30, 
            "metadata": {}, 
            "source": "# histogram of predicted probabilities\n\n# 8 bins\nplt.hist(y_pred_prob, bins=8)\n\n# x-axis limit from 0 to 1\nplt.xlim(0,1)\nplt.title('Histogram of predicted probabilities')\nplt.xlabel('Predicted probability of diabetes')\nplt.ylabel('Frequency')", 
            "outputs": [
                {
                    "execution_count": 30, 
                    "metadata": {}, 
                    "data": {
                        "text/plain": "<matplotlib.text.Text at 0x7f910ce147d0>"
                    }, 
                    "output_type": "execute_result"
                }, 
                {
                    "metadata": {}, 
                    "data": {
                        "image/png": "[encoded data removed]", 
                        "text/plain": "<matplotlib.figure.Figure at 0x7f910ce61450>"
                    }, 
                    "output_type": "display_data"
                }
            ], 
            "cell_type": "code"
        }, 
        {
            "execution_count": 31, 
            "metadata": {}, 
            "source": "# IMPORTANT: first argument is true values, second argument is predicted probabilities\n\n# we pass y_test and y_pred_prob\n# we do not use y_pred_class, because it will give incorrect results without generating an error\n# roc_curve returns 3 objects fpr, tpr, thresholds\n# fpr: false positive rate\n# tpr: true positive rate\nfpr, tpr, thresholds = metrics.roc_curve(y_test, y_pred_prob)\n\nplt.plot(fpr, tpr)\nplt.xlim([0.0, 1.0])\nplt.ylim([0.0, 1.0])\nplt.rcParams['font.size'] = 12\nplt.title('ROC curve for diabetes classifier')\nplt.xlabel('False Positive Rate (1 - Specificity)')\nplt.ylabel('True Positive Rate (Sensitivity)')\nplt.grid(True)\n", 
            "outputs": [
                {
                    "metadata": {}, 
                    "data": {
                        "image/png": "[encoded data removed]", 
                        "text/plain": "<matplotlib.figure.Figure at 0x7f910ce07290>"
                    }, 
                    "output_type": "display_data"
                }
            ], 
            "cell_type": "code"
        }, 
        {
            "execution_count": null, 
            "metadata": {
                "collapsed": true
            }, 
            "source": "", 
            "outputs": [], 
            "cell_type": "code"
        }
    ]
}