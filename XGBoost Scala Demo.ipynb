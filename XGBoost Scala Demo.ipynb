{
    "nbformat_minor": 1, 
    "metadata": {
        "language_info": {
            "codemirror_mode": "text/x-scala", 
            "pygments_lexer": "scala", 
            "name": "scala", 
            "file_extension": ".scala", 
            "mimetype": "text/x-scala", 
            "version": "2.11.8"
        }, 
        "kernelspec": {
            "language": "scala", 
            "name": "scala-spark21", 
            "display_name": "Scala 2.11 with Spark 2.1"
        }
    }, 
    "cells": [
        {
            "source": "# Demo of XGBoot and Scala", 
            "metadata": {
                "collapsed": true
            }, 
            "cell_type": "markdown"
        }, 
        {
            "execution_count": null, 
            "source": "", 
            "metadata": {
                "collapsed": true
            }, 
            "cell_type": "code", 
            "outputs": []
        }
    ], 
    "nbformat": 4
}