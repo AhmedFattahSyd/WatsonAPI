{
    "metadata": {
        "language_info": {
            "name": "python", 
            "mimetype": "text/x-python", 
            "nbconvert_exporter": "python", 
            "pygments_lexer": "ipython3", 
            "codemirror_mode": {
                "name": "ipython", 
                "version": 3
            }, 
            "file_extension": ".py", 
            "version": "3.5.2"
        }, 
        "kernelspec": {
            "display_name": "Python 3.5 (Experimental) with Spark 2.0", 
            "name": "python3-spark20", 
            "language": "python"
        }
    }, 
    "nbformat": 4, 
    "cells": [
        {
            "metadata": {
                "collapsed": true
            }, 
            "source": "# IBM Watson NLU API Demo\n\nThis notebook demonstrates access to IBM Watson Natural Language Understanding (NLU) API", 
            "cell_type": "markdown"
        }, 
        {
            "source": "# install watson-developer-cloud library\n!pip install --upgrade watson-developer-cloud\nimport watson_developer_cloud\nimport watson_developer_cloud.natural_language_understanding.features.v1 as features", 
            "metadata": {}, 
            "execution_count": 13, 
            "cell_type": "code", 
            "outputs": [
                {
                    "name": "stdout", 
                    "output_type": "stream", 
                    "text": "Requirement already up-to-date: watson-developer-cloud in /gpfs/global_fs01/sym_shared/YPProdSpark/user/sa7d-9dd5fbf856b6db-aa3b21eda791/.local/lib/python3.5/site-packages\nRequirement already up-to-date: pysolr<4.0,>=3.3 in /gpfs/global_fs01/sym_shared/YPProdSpark/user/sa7d-9dd5fbf856b6db-aa3b21eda791/.local/lib/python3.5/site-packages (from watson-developer-cloud)\nRequirement already up-to-date: requests<3.0,>=2.0 in /gpfs/global_fs01/sym_shared/YPProdSpark/user/sa7d-9dd5fbf856b6db-aa3b21eda791/.local/lib/python3.5/site-packages (from watson-developer-cloud)\nRequirement already up-to-date: pyOpenSSL>=16.2.0 in /gpfs/global_fs01/sym_shared/YPProdSpark/user/sa7d-9dd5fbf856b6db-aa3b21eda791/.local/lib/python3.5/site-packages (from watson-developer-cloud)\nRequirement already up-to-date: urllib3<1.23,>=1.21.1 in /gpfs/global_fs01/sym_shared/YPProdSpark/user/sa7d-9dd5fbf856b6db-aa3b21eda791/.local/lib/python3.5/site-packages (from requests<3.0,>=2.0->watson-developer-cloud)\nRequirement already up-to-date: chardet<3.1.0,>=3.0.2 in /gpfs/global_fs01/sym_shared/YPProdSpark/user/sa7d-9dd5fbf856b6db-aa3b21eda791/.local/lib/python3.5/site-packages (from requests<3.0,>=2.0->watson-developer-cloud)\nRequirement already up-to-date: certifi>=2017.4.17 in /gpfs/global_fs01/sym_shared/YPProdSpark/user/sa7d-9dd5fbf856b6db-aa3b21eda791/.local/lib/python3.5/site-packages (from requests<3.0,>=2.0->watson-developer-cloud)\nRequirement already up-to-date: idna<2.7,>=2.5 in /gpfs/global_fs01/sym_shared/YPProdSpark/user/sa7d-9dd5fbf856b6db-aa3b21eda791/.local/lib/python3.5/site-packages (from requests<3.0,>=2.0->watson-developer-cloud)\nRequirement already up-to-date: six>=1.5.2 in /gpfs/global_fs01/sym_shared/YPProdSpark/user/sa7d-9dd5fbf856b6db-aa3b21eda791/.local/lib/python3.5/site-packages (from pyOpenSSL>=16.2.0->watson-developer-cloud)\nRequirement already up-to-date: cryptography>=1.9 in /gpfs/global_fs01/sym_shared/YPProdSpark/user/sa7d-9dd5fbf856b6db-aa3b21eda791/.local/lib/python3.5/site-packages (from pyOpenSSL>=16.2.0->watson-developer-cloud)\nRequirement already up-to-date: asn1crypto>=0.21.0 in /gpfs/global_fs01/sym_shared/YPProdSpark/user/sa7d-9dd5fbf856b6db-aa3b21eda791/.local/lib/python3.5/site-packages (from cryptography>=1.9->pyOpenSSL>=16.2.0->watson-developer-cloud)\nRequirement already up-to-date: cffi>=1.7 in /gpfs/global_fs01/sym_shared/YPProdSpark/user/sa7d-9dd5fbf856b6db-aa3b21eda791/.local/lib/python3.5/site-packages (from cryptography>=1.9->pyOpenSSL>=16.2.0->watson-developer-cloud)\nRequirement already up-to-date: pycparser in /gpfs/global_fs01/sym_shared/YPProdSpark/user/sa7d-9dd5fbf856b6db-aa3b21eda791/.local/lib/python3.5/site-packages (from cffi>=1.7->cryptography>=1.9->pyOpenSSL>=16.2.0->watson-developer-cloud)\n"
                }
            ]
        }, 
        {
            "source": "# install sklearn (aka SciKit-Learn)\n!pip install sklearn --upgrade", 
            "metadata": {}, 
            "execution_count": 5, 
            "cell_type": "code", 
            "outputs": [
                {
                    "name": "stdout", 
                    "output_type": "stream", 
                    "text": "Requirement already up-to-date: sklearn in /gpfs/global_fs01/sym_shared/YPProdSpark/user/sa7d-9dd5fbf856b6db-aa3b21eda791/.local/lib/python3.5/site-packages\nRequirement already up-to-date: scikit-learn in /gpfs/global_fs01/sym_shared/YPProdSpark/user/sa7d-9dd5fbf856b6db-aa3b21eda791/.local/lib/python3.5/site-packages (from sklearn)\n"
                }
            ]
        }, 
        {
            "source": "# import prerequisite libraries\nimport pandas as pd\nimport numpy as np\nfrom bokeh.charts import Histogram, output_file, show\nimport random\nimport pandas as pd\nimport numpy as np\nfrom sklearn.model_selection import train_test_split\nimport json\nfrom pprint import pprint", 
            "metadata": {
                "collapsed": true
            }, 
            "execution_count": 24, 
            "cell_type": "code", 
            "outputs": []
        }, 
        {
            "source": "# Authenticate with the NLU services\nnlu = watson_developer_cloud.NaturalLanguageUnderstandingV1(version='2017-02-27',\n                                                            username=\"0a1ed198-c704-4af2-8cfb-6d9e744354bf\",\n                                                            password=\"ieAOb677GQNe\")", 
            "metadata": {}, 
            "execution_count": 14, 
            "cell_type": "code", 
            "outputs": []
        }, 
        {
            "source": "sample_text = \"The statement from the woman, Marilou Danley, which was read by her lawyer, Matthew Lombard, came after Ms. Danley went to the Los Angeles offices of the F.B.I. for questioning, according to a law enforcement official. It was released as the authorities sought her insight into what prompted a man with no evident criminal history to become a mass murderer.\"\nextracted_information = nlu.analyze(text=sample_text,\n            features=[features.Entities(), features.Keywords(), features.Categories(),features.Emotion(),\n                                   features.Sentiment()])\npprint(extracted_information)", 
            "metadata": {}, 
            "execution_count": 30, 
            "cell_type": "code", 
            "outputs": [
                {
                    "name": "stdout", 
                    "output_type": "stream", 
                    "text": "{'categories': [{'label': '/law, govt and politics', 'score': 0.664992},\n                {'label': '/society/crime/personal offense/homicide',\n                 'score': 0.245656},\n                {'label': '/law, govt and politics/law enforcement',\n                 'score': 0.152655}],\n 'emotion': {'document': {'emotion': {'anger': 0.193351,\n                                      'disgust': 0.231468,\n                                      'fear': 0.176854,\n                                      'joy': 0.304194,\n                                      'sadness': 0.046407}}},\n 'entities': [{'count': 2,\n               'relevance': 0.875709,\n               'text': 'Marilou Danley',\n               'type': 'Person'},\n              {'count': 1,\n               'relevance': 0.348063,\n               'text': 'Matthew Lombard',\n               'type': 'Person'},\n              {'count': 1,\n               'disambiguation': {'subtype': ['City']},\n               'relevance': 0.292781,\n               'text': 'Los Angeles',\n               'type': 'Location'},\n              {'count': 1,\n               'relevance': 0.185186,\n               'text': 'official',\n               'type': 'JobTitle'},\n              {'count': 1,\n               'disambiguation': {'dbpedia_resource': 'http://dbpedia.org/resource/Federal_Bureau_of_Investigation',\n                                  'name': 'Federal Bureau of Investigation',\n                                  'subtype': ['GovernmentAgency',\n                                              'GovernmentalBody']},\n               'relevance': 0.156526,\n               'text': 'F.B.I.',\n               'type': 'Organization'}],\n 'keywords': [{'relevance': 0.941943, 'text': 'Marilou Danley'},\n              {'relevance': 0.815273, 'text': 'evident criminal history'},\n              {'relevance': 0.809614, 'text': 'Ms. Danley'},\n              {'relevance': 0.798596, 'text': 'Los Angeles offices'},\n              {'relevance': 0.788524, 'text': 'law enforcement official'},\n              {'relevance': 0.67134, 'text': 'Matthew Lombard'},\n              {'relevance': 0.61336, 'text': 'mass murderer'},\n              {'relevance': 0.382532, 'text': 'authorities'},\n              {'relevance': 0.371565, 'text': 'lawyer'},\n              {'relevance': 0.36812, 'text': 'insight'},\n              {'relevance': 0.342022, 'text': 'statement'},\n              {'relevance': 0.341818, 'text': 'woman'},\n              {'relevance': 0.339985, 'text': 'F.B.I.'}],\n 'language': 'en',\n 'sentiment': {'document': {'label': 'neutral', 'score': 0.0}},\n 'usage': {'features': 5, 'text_characters': 357, 'text_units': 1}}\n"
                }
            ]
        }, 
        {
            "source": "", 
            "metadata": {
                "collapsed": true
            }, 
            "execution_count": null, 
            "cell_type": "code", 
            "outputs": []
        }
    ], 
    "nbformat_minor": 1
}