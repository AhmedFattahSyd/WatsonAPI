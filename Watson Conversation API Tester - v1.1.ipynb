{
    "cells": [
        {
            "cell_type": "markdown", 
            "metadata": {
                "collapsed": true
            }, 
            "source": "# Watson Conversation Model Tester\nThis notebook demonstrates a simple framework for training and testing IBM Watson Conversation API \nBy managing the training process programmatically, the intent recognition performance can be reliably tested with a truly blind test set."
        }, 
        {
            "cell_type": "code", 
            "metadata": {}, 
            "execution_count": 1, 
            "outputs": [
                {
                    "name": "stdout", 
                    "text": "Requirement already up-to-date: watson-developer-cloud in /gpfs/global_fs01/sym_shared/YPProdSpark/user/sa7d-9dd5fbf856b6db-aa3b21eda791/.local/lib/python3.5/site-packages\nRequirement already up-to-date: pysolr<4.0,>=3.3 in /gpfs/global_fs01/sym_shared/YPProdSpark/user/sa7d-9dd5fbf856b6db-aa3b21eda791/.local/lib/python3.5/site-packages (from watson-developer-cloud)\nRequirement already up-to-date: requests<3.0,>=2.0 in /gpfs/global_fs01/sym_shared/YPProdSpark/user/sa7d-9dd5fbf856b6db-aa3b21eda791/.local/lib/python3.5/site-packages (from watson-developer-cloud)\nRequirement already up-to-date: pyOpenSSL>=16.2.0 in /gpfs/global_fs01/sym_shared/YPProdSpark/user/sa7d-9dd5fbf856b6db-aa3b21eda791/.local/lib/python3.5/site-packages (from watson-developer-cloud)\nRequirement already up-to-date: urllib3<1.23,>=1.21.1 in /gpfs/global_fs01/sym_shared/YPProdSpark/user/sa7d-9dd5fbf856b6db-aa3b21eda791/.local/lib/python3.5/site-packages (from requests<3.0,>=2.0->watson-developer-cloud)\nRequirement already up-to-date: chardet<3.1.0,>=3.0.2 in /gpfs/global_fs01/sym_shared/YPProdSpark/user/sa7d-9dd5fbf856b6db-aa3b21eda791/.local/lib/python3.5/site-packages (from requests<3.0,>=2.0->watson-developer-cloud)\nRequirement already up-to-date: certifi>=2017.4.17 in /gpfs/global_fs01/sym_shared/YPProdSpark/user/sa7d-9dd5fbf856b6db-aa3b21eda791/.local/lib/python3.5/site-packages (from requests<3.0,>=2.0->watson-developer-cloud)\nRequirement already up-to-date: idna<2.7,>=2.5 in /gpfs/global_fs01/sym_shared/YPProdSpark/user/sa7d-9dd5fbf856b6db-aa3b21eda791/.local/lib/python3.5/site-packages (from requests<3.0,>=2.0->watson-developer-cloud)\nRequirement already up-to-date: six>=1.5.2 in /gpfs/global_fs01/sym_shared/YPProdSpark/user/sa7d-9dd5fbf856b6db-aa3b21eda791/.local/lib/python3.5/site-packages (from pyOpenSSL>=16.2.0->watson-developer-cloud)\nRequirement already up-to-date: cryptography>=1.9 in /gpfs/global_fs01/sym_shared/YPProdSpark/user/sa7d-9dd5fbf856b6db-aa3b21eda791/.local/lib/python3.5/site-packages (from pyOpenSSL>=16.2.0->watson-developer-cloud)\nRequirement already up-to-date: asn1crypto>=0.21.0 in /gpfs/global_fs01/sym_shared/YPProdSpark/user/sa7d-9dd5fbf856b6db-aa3b21eda791/.local/lib/python3.5/site-packages (from cryptography>=1.9->pyOpenSSL>=16.2.0->watson-developer-cloud)\nRequirement already up-to-date: cffi>=1.7 in /gpfs/global_fs01/sym_shared/YPProdSpark/user/sa7d-9dd5fbf856b6db-aa3b21eda791/.local/lib/python3.5/site-packages (from cryptography>=1.9->pyOpenSSL>=16.2.0->watson-developer-cloud)\nRequirement already up-to-date: pycparser in /gpfs/global_fs01/sym_shared/YPProdSpark/user/sa7d-9dd5fbf856b6db-aa3b21eda791/.local/lib/python3.5/site-packages (from cffi>=1.7->cryptography>=1.9->pyOpenSSL>=16.2.0->watson-developer-cloud)\nRequirement already up-to-date: sklearn in /gpfs/global_fs01/sym_shared/YPProdSpark/user/sa7d-9dd5fbf856b6db-aa3b21eda791/.local/lib/python3.5/site-packages\nRequirement already up-to-date: scikit-learn in /gpfs/global_fs01/sym_shared/YPProdSpark/user/sa7d-9dd5fbf856b6db-aa3b21eda791/.local/lib/python3.5/site-packages (from sklearn)\n", 
                    "output_type": "stream"
                }
            ], 
            "source": "# install watson-developer-cloud library\n!pip install --upgrade watson-developer-cloud\n\n# install sklearn (aka SciKit-Learn)\n!pip install sklearn --upgrade\n\n# import prerequisite libraries\nimport pandas as pd\nimport numpy as np\nfrom bokeh.charts import Histogram, output_file, show\nimport random\nimport pandas as pd\nimport numpy as np\nfrom sklearn.model_selection import train_test_split\n"
        }, 
        {
            "cell_type": "code", 
            "metadata": {}, 
            "execution_count": 4, 
            "outputs": [
                {
                    "name": "stdout", 
                    "text": "Loading training and test data\nData loaded. Number of records: example    879\nintent     879\ndtype: int64\n", 
                    "output_type": "stream"
                }, 
                {
                    "ename": "NameError", 
                    "evalue": "name 'Print' is not defined", 
                    "traceback": [
                        "\u001b[1;31m\u001b[0m", 
                        "\u001b[1;31mNameError\u001b[0mTraceback (most recent call last)", 
                        "\u001b[1;32m<ipython-input-4-e6c73b46dc78>\u001b[0m in \u001b[0;36m<module>\u001b[1;34m()\u001b[0m\n\u001b[0;32m     32\u001b[0m \u001b[0mdf_data_1\u001b[0m \u001b[1;33m=\u001b[0m \u001b[0mpd\u001b[0m\u001b[1;33m.\u001b[0m\u001b[0mread_csv\u001b[0m\u001b[1;33m(\u001b[0m\u001b[0mget_object_storage_file_with_credentials_17865db659b344be9a3c647ceab3e0cc\u001b[0m\u001b[1;33m(\u001b[0m\u001b[1;34m'DSXWMLDemo01'\u001b[0m\u001b[1;33m,\u001b[0m \u001b[1;34m'full_intent examples for WCS.csv'\u001b[0m\u001b[1;33m)\u001b[0m\u001b[1;33m)\u001b[0m\u001b[1;33m\u001b[0m\u001b[0m\n\u001b[0;32m     33\u001b[0m \u001b[0mprint\u001b[0m\u001b[1;33m(\u001b[0m\u001b[1;34m\"Data loaded. Number of records:\"\u001b[0m\u001b[1;33m,\u001b[0m\u001b[0mdf_data_1\u001b[0m\u001b[1;33m.\u001b[0m\u001b[0mcount\u001b[0m\u001b[1;33m(\u001b[0m\u001b[1;33m)\u001b[0m\u001b[1;33m)\u001b[0m\u001b[1;33m\u001b[0m\u001b[0m\n\u001b[1;32m---> 34\u001b[1;33m \u001b[0mPrint\u001b[0m\u001b[1;33m(\u001b[0m\u001b[1;34m\"Top rows:\"\u001b[0m\u001b[1;33m)\u001b[0m\u001b[1;33m\u001b[0m\u001b[0m\n\u001b[0m\u001b[0;32m     35\u001b[0m \u001b[0mdf_data_1\u001b[0m\u001b[1;33m.\u001b[0m\u001b[0mhead\u001b[0m\u001b[1;33m(\u001b[0m\u001b[1;33m)\u001b[0m\u001b[1;33m\u001b[0m\u001b[0m\n", 
                        "\u001b[1;31mNameError\u001b[0m: name 'Print' is not defined"
                    ], 
                    "output_type": "error"
                }
            ], 
            "source": "# The code was removed by DSX for sharing."
        }, 
        {
            "cell_type": "code", 
            "metadata": {}, 
            "execution_count": 13, 
            "outputs": [
                {
                    "name": "stdout", 
                    "text": "Populating the model with intents\nPopulating the model with examples\nTesting model with test data\nIntent Recognizer Performance: 75.32%\n", 
                    "output_type": "stream"
                }
            ], 
            "source": "# store into variable df\ntry:\n    df = df_data_1\nexcept NameError as e:\n    print('Error: Setup is incorrect or incomplete.\\n')\n    print('Follow the instructions to insert the pandas DataFrame above, and edit to')\n    print('make the generated df_data_# variable match the variable used here.')\n    raise\n# split data into training and test sets\n# typically training data is 80%. However, we should investigate this and confirm leading practices\ntrain, test = train_test_split(df, test_size = 0.35)\n# supply workspace and authentication parameters\nCONVERSATION_USERNAME = '88b92c88-94a1-4226-ae57-9ca74bb12e57'\nCONVERSATION_PASSWORD = '2CMxBdqB0TOo'\nVERSION = '2017-05-26'\nWORKSPACE_ID = '163bf2ef-4a65-4bb5-ae87-14df6870b573'\n# create the authtication json object\nimport json\nfrom watson_developer_cloud import ConversationV1\nconversation = ConversationV1(\n    username=CONVERSATION_USERNAME,\n    password=CONVERSATION_PASSWORD,\n    version= VERSION\n)\n#Clear the workspace of all existing intents\nintents = conversation.list_intents(workspace_id=WORKSPACE_ID)['intents']\nfor intent in intents:\n    conversation.delete_intent(workspace_id=WORKSPACE_ID, intent=intent['intent'])\nprint(\"Populating the model with intents\")\n# now create intent for each intent in the the training data\nfor intent in set([x for x in train['intent']]):\n    conversation.create_intent(workspace_id=WORKSPACE_ID, intent=intent, description=intent)\n# now add examples\nprint(\"Populating the model with examples\")\nfor training_data in [x[1] for x in train[:].iterrows()]:\n    conversation.create_example(workspace_id=WORKSPACE_ID, intent=training_data.intent, \n                                text=training_data.example)\nprint(\"Testing model with test data\")\n# now test with the test data\nresults = []\nfor test_data in [x[1] for x in test[:].iterrows()]:\n    try:\n        results.append(1 if conversation.message(workspace_id=WORKSPACE_ID, message_input=\n            {\"text\": test_data.example})['intents'][0]['intent'] == test_data.intent else 0)\n    except:\n        results.append(0)\nresults = np.array(results)\n\nprint(\"Intent Recognizer Performance: {:.2%}\".format(np.sum(results) / results.size))\n"
        }, 
        {
            "cell_type": "code", 
            "metadata": {
                "collapsed": true
            }, 
            "execution_count": null, 
            "outputs": [], 
            "source": ""
        }
    ], 
    "metadata": {
        "kernelspec": {
            "display_name": "Python 3.5 (Experimental) with Spark 2.0", 
            "name": "python3-spark20", 
            "language": "python"
        }, 
        "language_info": {
            "mimetype": "text/x-python", 
            "name": "python", 
            "pygments_lexer": "ipython3", 
            "version": "3.5.2", 
            "file_extension": ".py", 
            "codemirror_mode": {
                "version": 3, 
                "name": "ipython"
            }, 
            "nbconvert_exporter": "python"
        }
    }, 
    "nbformat_minor": 1, 
    "nbformat": 4
}